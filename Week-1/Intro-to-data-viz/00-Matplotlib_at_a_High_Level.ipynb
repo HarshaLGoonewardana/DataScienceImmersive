{
 "cells": [
  {
   "cell_type": "markdown",
   "metadata": {},
   "source": [
    "<img src=\"http://imgur.com/1ZcRyrc.png\" style=\"float: left; margin: 20px; height: 55px\"\\>\n",
    "\n",
    "# Matplotlib at a High Level\n",
    "\n",
    "_Author: Ben Shaver (DC)_\n",
    "\n",
    "## Learning Objectives:\n",
    "*This notebook will serve as a reference for:*\n",
    "\n",
    "* Understanding the ontology and high level syntax of Matplotlib\n",
    "* Outlining the two ways of using Matplotlib\n",
    "\n",
    "\n",
    "## A Note:\n",
    "\n",
    "This is *not* a tutorial on how to create basic plots with Matplotlib, or a guide to customizing your plots. There are a million and one of those around already. I recommend the [Matplotlib Gallery](https://matplotlib.org/gallery.html) or the [Python Graph Gallery](https://python-graph-gallery.com/) for info on how to create specific visualizations. For the purposes of this overview, I'll restrict myself to simple scatter plots.\n",
    "\n",
    "If you are not confused by Matplotlib syntax or you want to jump straight in to plotting with Matplotlib and Pandas, you may prefer to begin with [Visualization with Matplotlib and Pandas](01-Viz_in_Matplotlib_and_Pandas.ipynb)"
   ]
  },
  {
   "cell_type": "markdown",
   "metadata": {},
   "source": [
    "# Intro to Matplotlib\n",
    "\n",
    "[Matplotlib](https://matplotlib.org/) is a Python 2D plotting library with an interface inspired by MATLAB. Typically, you will import and interact with the Matplotlib module \"pyplot\" under the `plt` alias:"
   ]
  },
  {
   "cell_type": "code",
   "execution_count": 1,
   "metadata": {
    "ExecuteTime": {
     "end_time": "2018-04-25T20:41:31.514499Z",
     "start_time": "2018-04-25T20:41:30.938816Z"
    }
   },
   "outputs": [],
   "source": [
    "import matplotlib.pyplot as plt"
   ]
  },
  {
   "cell_type": "markdown",
   "metadata": {},
   "source": [
    "The `plt` alias will prefix most commmands you will use from Matplotlib. \n",
    "\n",
    "Matplotlib works by instantiating a `figure` object and then placing data, labels, annotations, etc. on top of that `figure` object in successive commands.\n",
    "\n",
    "`plt.show()` will display the visualization you've created:"
   ]
  },
  {
   "cell_type": "code",
   "execution_count": 2,
   "metadata": {
    "ExecuteTime": {
     "end_time": "2018-04-25T20:43:45.175824Z",
     "start_time": "2018-04-25T20:43:45.097862Z"
    }
   },
   "outputs": [
    {
     "data": {
      "text/plain": [
       "<matplotlib.collections.PathCollection at 0x17f4d086cc0>"
      ]
     },
     "execution_count": 2,
     "metadata": {},
     "output_type": "execute_result"
    }
   ],
   "source": [
    "plt.scatter(x=[1,2,3], y=[5,6,4])\n",
    "\n",
    "# Notice that no plot is returned by this command."
   ]
  },
  {
   "cell_type": "code",
   "execution_count": 3,
   "metadata": {
    "ExecuteTime": {
     "end_time": "2018-04-25T20:44:59.607330Z",
     "start_time": "2018-04-25T20:44:59.586973Z"
    }
   },
   "outputs": [],
   "source": [
    "# In order to squelch the message printed to the console,\n",
    "# I sometimes assign my matplotlib commands into a underscore:\n",
    "\n",
    "_ = plt.scatter(x=[1,2,3], y=[5,6,4])"
   ]
  },
  {
   "cell_type": "code",
   "execution_count": 4,
   "metadata": {
    "ExecuteTime": {
     "end_time": "2018-04-25T20:45:19.098866Z",
     "start_time": "2018-04-25T20:45:19.081712Z"
    }
   },
   "outputs": [],
   "source": [
    "# Edit for DSI-8: Actually its probably best to just drop a wee semi-colon:\n",
    "\n",
    "plt.scatter(x=[1,2,3], y=[5,6,4]);"
   ]
  },
  {
   "cell_type": "code",
   "execution_count": 5,
   "metadata": {
    "ExecuteTime": {
     "end_time": "2018-04-25T20:45:21.010852Z",
     "start_time": "2018-04-25T20:45:20.797618Z"
    }
   },
   "outputs": [
    {
     "data": {
      "image/png": "[encoded data removed]",
      "text/plain": [
       "<Figure size 432x288 with 1 Axes>"
      ]
     },
     "metadata": {},
     "output_type": "display_data"
    }
   ],
   "source": [
    "plt.show() # Display the plot"
   ]
  },
  {
   "cell_type": "markdown",
   "metadata": {},
   "source": [
    "In order to avoid having to run `plt.show()` in every cell where you create a visualization, you can use an IPython 'magic' command which tells your Jupyter notebook to automatically display plots:"
   ]
  },
  {
   "cell_type": "code",
   "execution_count": 6,
   "metadata": {
    "ExecuteTime": {
     "end_time": "2018-04-25T20:46:02.411291Z",
     "start_time": "2018-04-25T20:46:02.374580Z"
    }
   },
   "outputs": [],
   "source": [
    "% matplotlib inline"
   ]
  },
  {
   "cell_type": "markdown",
   "metadata": {},
   "source": [
    "So you'd normally just put that command with the rest of your import statements:\n",
    "```python\n",
    "import numpy as np\n",
    "import pandas as pd\n",
    "import matplotlib.pyplot as plt\n",
    "import seaborn as sns\n",
    "import killer.robots as kr\n",
    "%matplotlib inline\n",
    "```"
   ]
  },
  {
   "cell_type": "code",
   "execution_count": 7,
   "metadata": {
    "ExecuteTime": {
     "end_time": "2018-04-25T20:47:12.185256Z",
     "start_time": "2018-04-25T20:47:11.964277Z"
    }
   },
   "outputs": [
    {
     "data": {
      "image/png": "[encoded data removed]",
      "text/plain": [
       "<Figure size 432x288 with 1 Axes>"
      ]
     },
     "metadata": {},
     "output_type": "display_data"
    }
   ],
   "source": [
    "plt.scatter(x=[1,2,3], y=[5,6,4]);\n",
    "\n",
    "# Now my plot is displayed automatically"
   ]
  },
  {
   "cell_type": "markdown",
   "metadata": {},
   "source": [
    "# Two Interfaces"
   ]
  },
  {
   "cell_type": "markdown",
   "metadata": {},
   "source": [
    "Matplotlib provides \"two interfaces for the price of one.\"\n",
    "\n",
    "The first is the MATLAB-style interface which is the more familiar interface for most beginning users. Using Matplotlib in this way, basically every command will begin with `plt`.\n",
    "\n",
    "The second is an object-oriented interface where the objects that make up a Matplotlib visualization are interacted with directly. When you see `fig`, `figure`, `ax`, and the like, you're probably seeing the object-oriented interface at work.\n",
    "\n",
    "Lets load in and plot the famous Iris dataset in each interface so you can see the main differences:"
   ]
  },
  {
   "cell_type": "code",
   "execution_count": 8,
   "metadata": {
    "ExecuteTime": {
     "end_time": "2018-04-25T20:50:24.069050Z",
     "start_time": "2018-04-25T20:50:22.916186Z"
    }
   },
   "outputs": [],
   "source": [
    "import pandas as pd\n",
    "from sklearn import datasets\n",
    "\n",
    "iris = datasets.load_iris()\n",
    "iris = pd.DataFrame(iris.data, columns=iris.feature_names)"
   ]
  },
  {
   "cell_type": "markdown",
   "metadata": {},
   "source": [
    "## MATLAB-style Interface"
   ]
  },
  {
   "cell_type": "markdown",
   "metadata": {},
   "source": [
    "Typically, `plt.plot()` instantiates the figure and plots the data:"
   ]
  },
  {
   "cell_type": "code",
   "execution_count": 16,
   "metadata": {
    "ExecuteTime": {
     "end_time": "2018-04-25T20:55:22.050691Z",
     "start_time": "2018-04-25T20:55:21.895762Z"
    }
   },
   "outputs": [
    {
     "data": {
      "image/png": "[encoded data removed]",
      "text/plain": [
       "<Figure size 432x288 with 1 Axes>"
      ]
     },
     "metadata": {},
     "output_type": "display_data"
    }
   ],
   "source": [
    "plt.plot(iris['petal length (cm)'], iris['petal width (cm)'], 'bo');\n",
    "\n",
    "# Check: what are the basic arguments to plot?"
   ]
  },
  {
   "cell_type": "markdown",
   "metadata": {},
   "source": [
    "`'bo'` is just a shortcut for `marker='o'` and `color='b'`. (Setting the marker equal to a circle gives us a scatter plot, rather than a line graph.)\n",
    "\n",
    "This line of code accomplishes the same thing:\n",
    "```\n",
    "plt.scatter(iris['petal length (cm)'], iris['petal width (cm)'], color='b')\n",
    "```"
   ]
  },
  {
   "cell_type": "markdown",
   "metadata": {},
   "source": [
    "We can add axis labels and a title by calling further `plt` commands:"
   ]
  },
  {
   "cell_type": "code",
   "execution_count": 22,
   "metadata": {
    "ExecuteTime": {
     "end_time": "2018-04-25T20:59:49.694111Z",
     "start_time": "2018-04-25T20:59:49.517785Z"
    }
   },
   "outputs": [
    {
     "data": {
      "image/png": "[encoded data removed]",
      "text/plain": [
       "<Figure size 432x288 with 1 Axes>"
      ]
     },
     "metadata": {},
     "output_type": "display_data"
    }
   ],
   "source": [
    "plt.plot(iris['petal length (cm)'], iris['petal width (cm)'], 'bo')\n",
    "plt.title(\"Wide Petals Are Also Long!\")\n",
    "plt.xlabel(\"Iris Petal Length (cm)\")\n",
    "plt.ylabel(\"Iris Petal Width (cm)\");"
   ]
  },
  {
   "cell_type": "markdown",
   "metadata": {},
   "source": [
    "Other common commands you might use in this context are `plt.legend`, `plt.xlim`, and `plt.xticks`. These make a legend, adjust the limits of the X-axis, and modify the location of ticks on the X-axis, respectively. For the last two, there are equivalent functions for the Y-axis.\n",
    "\n",
    "I find myself using `plt.xticks(rotation=45)` to rotate text labels on the X-axis of bar charts all the time."
   ]
  },
  {
   "cell_type": "markdown",
   "metadata": {},
   "source": [
    "## Object-oriented Interface\n",
    "\n",
    "This interface allows access to the objects working \"under the hood\" of the MATLAB-style interface. By accessing these elements directly, this interface is much more flexible, which is why almost all of the really big visualizations I've seen done in Matplotlib make use of it. In particular, visualizations with many subplots make use of the object-oriented interface.\n",
    "\n",
    "Let's create the same visualization as above, using this more explicit interface:"
   ]
  },
  {
   "cell_type": "code",
   "execution_count": 23,
   "metadata": {
    "ExecuteTime": {
     "end_time": "2018-04-25T21:00:49.420238Z",
     "start_time": "2018-04-25T21:00:49.408304Z"
    }
   },
   "outputs": [
    {
     "data": {
      "text/plain": [
       "<Figure size 432x288 with 0 Axes>"
      ]
     },
     "metadata": {},
     "output_type": "display_data"
    }
   ],
   "source": [
    "# First, we can manually instantiate a figure:\n",
    "fig = plt.figure()\n",
    "\n",
    "# Hmm. Not much has happened"
   ]
  },
  {
   "cell_type": "markdown",
   "metadata": {},
   "source": [
    "We must instantiate at least one *axes* object. These are -- you guessed it -- the axes that our data are plotted on. You may add axes using the (drumroll...) `add_axes` method of the `fig` object we've just created.\n",
    "\n",
    "(Remember the object-oriented framework we're working in: `fig` is an *instance* of the Matplotlib `figure` class.\n",
    "\n",
    "For reasons that will become clear, however, let's use the `add_subplot` method instead:"
   ]
  },
  {
   "cell_type": "code",
   "execution_count": null,
   "metadata": {
    "ExecuteTime": {
     "end_time": "2018-04-25T19:56:15.006474Z",
     "start_time": "2018-04-25T19:56:14.987143Z"
    }
   },
   "outputs": [],
   "source": [
    "ax = fig.add_subplot(111)"
   ]
  },
  {
   "cell_type": "markdown",
   "metadata": {},
   "source": [
    "Now we have two objects to interact with: a `figure` and an `axes`. Our visualization will always be just one `figure`, but we might have more than one `axes` object, on which we plot different data.\n",
    "\n",
    "Let's go ahead and plot data:"
   ]
  },
  {
   "cell_type": "code",
   "execution_count": 26,
   "metadata": {
    "ExecuteTime": {
     "end_time": "2018-04-25T21:05:24.276151Z",
     "start_time": "2018-04-25T21:05:24.103688Z"
    }
   },
   "outputs": [
    {
     "data": {
      "image/png": "[encoded data removed]",
      "text/plain": [
       "<Figure size 432x288 with 1 Axes>"
      ]
     },
     "metadata": {},
     "output_type": "display_data"
    }
   ],
   "source": [
    "fig = plt.figure()\n",
    "ax = fig.add_subplot(111)\n",
    "\n",
    "\n",
    "ax.plot(iris['petal length (cm)'], iris['petal width (cm)'], 'bo')\n",
    "\n",
    "# Does this look familiar? Instead of calling plt.plot,\n",
    "# we've manually created a figure and an axes object,\n",
    "# then we've called the plot method on the axes object we created!\n",
    "\n",
    "ax.set_title(\"Wide Petals Are Also Long!\")\n",
    "ax.set_xlabel(\"Iris Petal Length (cm)\")\n",
    "ax.set_ylabel(\"Iris Petal Width (cm)\");\n",
    "\n",
    "# Boom. \n",
    "\n",
    "# But:\n",
    "# These commands will still work! Why?\n",
    "# (Play around with commenting and uncommenting the above and below 3 lines,\n",
    "# and verify that this is true.)\n",
    "\n",
    "# _ = plt.title(\"Wide Petals Are Also Long!\")\n",
    "# _ = plt.xlabel(\"Iris Petal Length (cm)\")\n",
    "# _ = plt.ylabel(\"Iris Petal Width (cm)\")"
   ]
  },
  {
   "cell_type": "markdown",
   "metadata": {},
   "source": [
    "The MATLAB interface and the object-oriented interface work interchangeably! They're both still operating on the same Matplotlib object, under the hood."
   ]
  },
  {
   "cell_type": "code",
   "execution_count": 27,
   "metadata": {
    "ExecuteTime": {
     "end_time": "2018-04-25T21:05:30.298861Z",
     "start_time": "2018-04-25T21:05:30.081021Z"
    }
   },
   "outputs": [
    {
     "data": {
      "text/plain": [
       "matplotlib.axes._subplots.AxesSubplot"
      ]
     },
     "execution_count": 27,
     "metadata": {},
     "output_type": "execute_result"
    },
    {
     "data": {
      "image/png": "[encoded data removed]",
      "text/plain": [
       "<Figure size 432x288 with 1 Axes>"
      ]
     },
     "metadata": {},
     "output_type": "display_data"
    }
   ],
   "source": [
    "# Well, what if we wanted to create two subplots, side by side?\n",
    "\n",
    "fig = plt.figure()\n",
    "ax = fig.add_subplot(111)\n",
    "\n",
    "type(ax) # This is a single AxesSubplot. Hmm.."
   ]
  },
  {
   "cell_type": "markdown",
   "metadata": {},
   "source": [
    "The `plt.subplots` function returns an instance of the `Figure` class and something else, which we've assigned to `ax`..."
   ]
  },
  {
   "cell_type": "code",
   "execution_count": 33,
   "metadata": {
    "ExecuteTime": {
     "end_time": "2018-04-25T21:11:43.135652Z",
     "start_time": "2018-04-25T21:11:42.916933Z"
    }
   },
   "outputs": [
    {
     "name": "stdout",
     "output_type": "stream",
     "text": [
      "<class 'numpy.ndarray'>\n",
      "2\n",
      "<class 'matplotlib.axes._subplots.AxesSubplot'>\n"
     ]
    },
    {
     "data": {
      "image/png": "[encoded data removed]",
      "text/plain": [
       "<Figure size 432x288 with 2 Axes>"
      ]
     },
     "metadata": {},
     "output_type": "display_data"
    }
   ],
   "source": [
    "fig, ax = plt.subplots(2)\n",
    "\n",
    "print(type(ax)) # Its an array. Huh.\n",
    "print(len(ax))  # of Length 2.\n",
    "print(type(ax[0])) # Bruh. Its an array containing two AxesSubplot objects!"
   ]
  },
  {
   "cell_type": "code",
   "execution_count": 42,
   "metadata": {
    "ExecuteTime": {
     "end_time": "2018-04-25T21:19:37.371371Z",
     "start_time": "2018-04-25T21:19:36.970522Z"
    }
   },
   "outputs": [
    {
     "data": {
      "image/png": "[encoded data removed]",
      "text/plain": [
       "<Figure size 432x288 with 2 Axes>"
      ]
     },
     "metadata": {},
     "output_type": "display_data"
    }
   ],
   "source": [
    "fig, ax = plt.subplots(2, sharex=True) #sharey=True)\n",
    "\n",
    "# Using the array *ax* we can refer to each axes object independently!\n",
    "\n",
    "_ = ax[0].plot(iris['petal length (cm)'], iris['petal width (cm)'], 'bo')\n",
    "\n",
    "_ = ax[0].set_title(\"Long petals are also wide!\")\n",
    "_ = ax[0].set_xlabel(\"Iris Petal Length (cm)\")\n",
    "_ = ax[0].set_ylabel(\"Iris Petal Width (cm)\")\n",
    "\n",
    "# What should we do with ax[1]?\n",
    "# Your code here:\n",
    "\n",
    "_ = ax[1].plot(iris['sepal length (cm)'], iris['sepal width (cm)'], 'ro')\n",
    "_ = ax[1].set_title(\"No clear relationship here though:\")\n",
    "_ = ax[1].set_xlabel(\"Iris Sepal Length (cm)\")\n",
    "_ = ax[1].set_ylabel(\"Iris Sepal Width (cm)\")\n",
    "\n",
    "# Nice new function that handles subplot layout for us:\n",
    "_ = plt.tight_layout() \n",
    "\n",
    "# Now it annoys me that my X- and Y-axes are not the same, so\n",
    "# lets make them the same. Add \"sharex=True, sharey=True\" to\n",
    "# the original plt.subplots function call."
   ]
  },
  {
   "cell_type": "markdown",
   "metadata": {},
   "source": [
    "## How do we make subplots with the MATLAB interface?"
   ]
  },
  {
   "cell_type": "code",
   "execution_count": 43,
   "metadata": {
    "ExecuteTime": {
     "end_time": "2018-04-25T21:20:20.367190Z",
     "start_time": "2018-04-25T21:20:20.020733Z"
    }
   },
   "outputs": [
    {
     "data": {
      "image/png": "[encoded data removed]",
      "text/plain": [
       "<Figure size 432x288 with 2 Axes>"
      ]
     },
     "metadata": {},
     "output_type": "display_data"
    }
   ],
   "source": [
    "ax1 = plt.subplot(211) \n",
    "plt.plot(iris['petal length (cm)'], iris['petal width (cm)'], 'bo')\n",
    "plt.title(\"Wide Petals Are Also Long!\")\n",
    "plt.xlabel(\"Iris Petal Length (cm)\")\n",
    "plt.ylabel(\"Iris Petal Width (cm)\")\n",
    "\n",
    "ax2 = plt.subplot(212, sharex=ax1, sharey=ax1)\n",
    "plt.plot(iris['sepal length (cm)'], iris['sepal width (cm)'], 'ro')\n",
    "plt.title(\"No clear relationship here though:\")\n",
    "plt.xlabel(\"Iris Sepal Length (cm)\")\n",
    "plt.ylabel(\"Iris Sepal Width (cm)\")\n",
    "plt.tight_layout();"
   ]
  },
  {
   "cell_type": "markdown",
   "metadata": {
    "collapsed": true
   },
   "source": [
    "Notice that the first `plt.subplot` function call doesn't need to\n",
    "be assigned to anything, except we want to use the `sharex` and\n",
    "`sharey` parameters of the second `plt.subplot` call, so we need some\n",
    "way of referring to the first axes object. \n",
    "\n",
    "`ax2`, on the other hand,\n",
    "is completely superfluous."
   ]
  },
  {
   "cell_type": "markdown",
   "metadata": {},
   "source": [
    "# Conclusion:\n",
    "\n",
    "You can (and will) use the MATLAB interface *and* the object-oriented interface interchangeably. But knowing which is which will be invaluable as you explore Matplotlib and experience visualization code \"in the wild.\"\n",
    "\n",
    "You may have noticed I did not discuss Pandas or Seaborn at all. Pandas offers its own plotting functionality which is built on top of Matplotlib. Try inserting Pandas `.plot` commands into some of the above cell blocks. You'll see its just a wrapper on `plt.plot`. In this way, Pandas is like a *third* interface to Matplotlib. Keep that in mind.\n",
    "\n",
    "Seaborn is another visualization library built on top of Matplotlib. It extends the functionality of Matplotlib and introduces some common sense features, like passing a dataframe to a `data` parameter and referring to column names simply as strings. I recommend thinking of it as an extension to Matplotlib, rather than as a new library to learn. Therefore, the key takeaways from this notebook are still applicable if you plan to rely on Seaborn heavily."
   ]
  },
  {
   "cell_type": "markdown",
   "metadata": {},
   "source": [
    "# Sources:\n",
    "\n",
    "[Visualization Using Matplotlib, from the Python Data Science Handbook (highly recommended!)](https://github.com/jakevdp/PythonDataScienceHandbook/blob/master/notebooks/04.00-Introduction-To-Matplotlib.ipynb)\n",
    "\n",
    "[Anatomy of Matplotlib](https://github.com/matplotlib/AnatomyOfMatplotlib/blob/master/AnatomyOfMatplotlib-Part1-Figures_Subplots_and_layouts.ipynb)"
   ]
  }
 ],
 "metadata": {
  "kernelspec": {
   "display_name": "Python [default]",
   "language": "python",
   "name": "python3"
  },
  "language_info": {
   "codemirror_mode": {
    "name": "ipython",
    "version": 3
   },
   "file_extension": ".py",
   "mimetype": "text/x-python",
   "name": "python",
   "nbconvert_exporter": "python",
   "pygments_lexer": "ipython3",
   "version": "3.6.4"
  },
  "toc": {
   "nav_menu": {},
   "number_sections": true,
   "sideBar": true,
   "skip_h1_title": false,
   "title_cell": "Table of Contents",
   "title_sidebar": "Contents",
   "toc_cell": false,
   "toc_position": {},
   "toc_section_display": true,
   "toc_window_display": false
  },
  "varInspector": {
   "cols": {
    "lenName": 16,
    "lenType": 16,
    "lenVar": 40
   },
   "kernels_config": {
    "python": {
     "delete_cmd_postfix": "",
     "delete_cmd_prefix": "del ",
     "library": "var_list.py",
     "varRefreshCmd": "print(var_dic_list())"
    },
    "r": {
     "delete_cmd_postfix": ") ",
     "delete_cmd_prefix": "rm(",
     "library": "var_list.r",
     "varRefreshCmd": "cat(var_dic_list()) "
    }
   },
   "types_to_exclude": [
    "module",
    "function",
    "builtin_function_or_method",
    "instance",
    "_Feature"
   ],
   "window_display": false
  }
 },
 "nbformat": 4,
 "nbformat_minor": 2
}
