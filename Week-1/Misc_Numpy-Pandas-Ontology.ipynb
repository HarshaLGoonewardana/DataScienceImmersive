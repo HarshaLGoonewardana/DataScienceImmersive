{
 "cells": [
  {
   "cell_type": "markdown",
   "metadata": {},
   "source": [
    "## (Supplementary) Introduction to Numpy and Pandas"
   ]
  },
  {
   "cell_type": "markdown",
   "metadata": {},
   "source": [
    "### Learning Objectives:\n",
    "* Understand the relationship between Numpy and Pandas\n",
    "* Identify the constituent parts of a Pandas dataframe"
   ]
  },
  {
   "cell_type": "markdown",
   "metadata": {},
   "source": [
    "You've already been introduced to Python variables, data types, and functions. These are all *objects* within Python. Depending on how they are defined, objects may have attributes and methods. Attributes are called without a parentheses, because they require no arguments. Methods are functions that are specific to certain types of objects. When you call a method on an object, you are applying that function to the object, with some additional argument(s). Thus, they are called with parentheses:"
   ]
  },
  {
   "cell_type": "code",
   "execution_count": null,
   "metadata": {
    "ExecuteTime": {
     "end_time": "2018-04-24T19:46:41.646631Z",
     "start_time": "2018-04-24T19:46:41.627249Z"
    }
   },
   "outputs": [],
   "source": [
    "X = [3,1,2]\n",
    "# Apply the 'sort' method to X\n",
    "X.sort()\n",
    "X"
   ]
  },
  {
   "cell_type": "markdown",
   "metadata": {},
   "source": [
    "### Numpy"
   ]
  },
  {
   "cell_type": "markdown",
   "metadata": {},
   "source": [
    "Most of the data manipulation you'll do with Python will use the Numpy and Pandas libraries.\n",
    "\n",
    "Numpy stands for 'numerical python,' and it was one of the first tools to turn Python into a data science programming language."
   ]
  },
  {
   "cell_type": "code",
   "execution_count": 1,
   "metadata": {
    "ExecuteTime": {
     "end_time": "2018-04-30T21:26:13.428287Z",
     "start_time": "2018-04-30T21:26:13.234773Z"
    }
   },
   "outputs": [],
   "source": [
    "# Import the library:\n",
    "import numpy as np"
   ]
  },
  {
   "cell_type": "markdown",
   "metadata": {},
   "source": [
    "Recall that objects in Python have types. Numpy provides many more types than basic python:"
   ]
  },
  {
   "cell_type": "code",
   "execution_count": null,
   "metadata": {
    "ExecuteTime": {
     "end_time": "2018-04-24T19:46:41.874400Z",
     "start_time": "2018-04-24T19:46:41.866389Z"
    }
   },
   "outputs": [],
   "source": [
    "num = 1\n",
    "type(num)"
   ]
  },
  {
   "cell_type": "code",
   "execution_count": null,
   "metadata": {
    "ExecuteTime": {
     "end_time": "2018-04-24T19:46:41.886433Z",
     "start_time": "2018-04-24T19:46:41.877408Z"
    }
   },
   "outputs": [],
   "source": [
    "num = np.int32(1)\n",
    "\n",
    "type(num)"
   ]
  },
  {
   "cell_type": "markdown",
   "metadata": {},
   "source": [
    "Numpy's main contribution to the Python world are *arrays*. Arrays are multi-dimensional collections of elements of the same type. Almost always the objects in an array are numbers. You can create an array from a list of Python lists:"
   ]
  },
  {
   "cell_type": "code",
   "execution_count": null,
   "metadata": {
    "ExecuteTime": {
     "end_time": "2018-04-24T19:46:41.902732Z",
     "start_time": "2018-04-24T19:46:41.890327Z"
    }
   },
   "outputs": [],
   "source": [
    "A = np.array([[1,2,3],[4,5,6]])\n",
    "A"
   ]
  },
  {
   "cell_type": "markdown",
   "metadata": {},
   "source": [
    "Or you can create an array using a Numpy function, such as np.full:"
   ]
  },
  {
   "cell_type": "code",
   "execution_count": null,
   "metadata": {
    "ExecuteTime": {
     "end_time": "2018-04-24T19:46:41.919328Z",
     "start_time": "2018-04-24T19:46:41.908462Z"
    }
   },
   "outputs": [],
   "source": [
    "# The first argument specifies the dimensions, the second tells Numpy what to fill the array with:\n",
    "# This array is two-dimensional. Most arrays you see will be two dimensional, but remember that an\n",
    "# array can contain data in any number of dimensions.\n",
    "np.full((3,3), 8)"
   ]
  },
  {
   "cell_type": "code",
   "execution_count": null,
   "metadata": {
    "ExecuteTime": {
     "end_time": "2018-04-24T19:46:41.932068Z",
     "start_time": "2018-04-24T19:46:41.923470Z"
    }
   },
   "outputs": [],
   "source": [
    "# A three-dimensional array. The first array is 'stacked' below the other one.\n",
    "np.full((2,2,2), 7)"
   ]
  },
  {
   "cell_type": "code",
   "execution_count": null,
   "metadata": {
    "ExecuteTime": {
     "end_time": "2018-04-24T19:46:41.943654Z",
     "start_time": "2018-04-24T19:46:41.936107Z"
    }
   },
   "outputs": [],
   "source": [
    "# Note that A is an array:\n",
    "type(A)\n",
    "# But the dtype of A is numeric:\n",
    "A.dtype\n",
    "\n",
    "# This is because the 'dtype' attribute of an array tells us the data type of the elements *inside* that array.\n",
    "# Moving on, it will be helpful to remember the difference between the type of an object and the data type\n",
    "# of the elements it contains."
   ]
  },
  {
   "cell_type": "markdown",
   "metadata": {},
   "source": [
    "Arrays have their own attributes and methods. You've already seen the dtype attribute."
   ]
  },
  {
   "cell_type": "code",
   "execution_count": null,
   "metadata": {
    "ExecuteTime": {
     "end_time": "2018-04-24T19:46:41.963380Z",
     "start_time": "2018-04-24T19:46:41.949018Z"
    }
   },
   "outputs": [],
   "source": [
    "# The mean method returns the average of the numbers inside the array:\n",
    "A.mean()"
   ]
  },
  {
   "cell_type": "code",
   "execution_count": null,
   "metadata": {
    "ExecuteTime": {
     "end_time": "2018-04-24T19:46:41.975988Z",
     "start_time": "2018-04-24T19:46:41.966767Z"
    }
   },
   "outputs": [],
   "source": [
    "# The sum method returns the sum:\n",
    "A.sum()"
   ]
  },
  {
   "cell_type": "code",
   "execution_count": null,
   "metadata": {
    "ExecuteTime": {
     "end_time": "2018-04-24T19:46:41.991435Z",
     "start_time": "2018-04-24T19:46:41.979735Z"
    }
   },
   "outputs": [],
   "source": [
    "B = np.array([[0,1,0],[2,2,2]])\n",
    "B"
   ]
  },
  {
   "cell_type": "code",
   "execution_count": null,
   "metadata": {
    "ExecuteTime": {
     "end_time": "2018-04-24T19:46:42.004025Z",
     "start_time": "2018-04-24T19:46:41.994786Z"
    }
   },
   "outputs": [],
   "source": [
    "# Arrays can be added:\n",
    "A + B"
   ]
  },
  {
   "cell_type": "code",
   "execution_count": null,
   "metadata": {
    "ExecuteTime": {
     "end_time": "2018-04-24T19:46:42.016090Z",
     "start_time": "2018-04-24T19:46:42.008277Z"
    }
   },
   "outputs": [],
   "source": [
    "# And multiplied:\n",
    "A * B"
   ]
  },
  {
   "cell_type": "markdown",
   "metadata": {},
   "source": [
    "These operations are *element-wise*. That means that when we multiply two arrays, we are just multiplying all the corresponding elements from each array. If you are familiar with matrix multiplication in math, you know it is possible to multiple the arrays themselves together:"
   ]
  },
  {
   "cell_type": "code",
   "execution_count": null,
   "metadata": {
    "ExecuteTime": {
     "end_time": "2018-04-24T19:46:42.032182Z",
     "start_time": "2018-04-24T19:46:42.023110Z"
    }
   },
   "outputs": [],
   "source": [
    "A.dot(B.T)\n",
    "# If you don't understand this right now, don't worry about it. We will discuss matrix multiplication later in the course."
   ]
  },
  {
   "cell_type": "markdown",
   "metadata": {},
   "source": [
    "Note that element-wise operations are a defining difference between a Numpy array of numbers and a base Python list of numbers:"
   ]
  },
  {
   "cell_type": "code",
   "execution_count": null,
   "metadata": {
    "ExecuteTime": {
     "end_time": "2018-04-24T19:46:42.103337Z",
     "start_time": "2018-04-24T19:46:42.094155Z"
    }
   },
   "outputs": [],
   "source": [
    "[1, 2, 3] + [1, 2, 3]"
   ]
  },
  {
   "cell_type": "code",
   "execution_count": null,
   "metadata": {
    "ExecuteTime": {
     "end_time": "2018-04-24T19:46:42.115879Z",
     "start_time": "2018-04-24T19:46:42.107776Z"
    }
   },
   "outputs": [],
   "source": [
    "np.array([1,2,3]) + np.array([1,2,3])"
   ]
  },
  {
   "cell_type": "markdown",
   "metadata": {},
   "source": [
    "Arrays have a certain number of dimensions, or *axes*:"
   ]
  },
  {
   "cell_type": "code",
   "execution_count": null,
   "metadata": {
    "ExecuteTime": {
     "end_time": "2018-04-24T19:46:42.129994Z",
     "start_time": "2018-04-24T19:46:42.121608Z"
    }
   },
   "outputs": [],
   "source": [
    "A.ndim # A is two-dimensional. It has rows and columns."
   ]
  },
  {
   "cell_type": "code",
   "execution_count": null,
   "metadata": {
    "ExecuteTime": {
     "end_time": "2018-04-24T19:46:42.147382Z",
     "start_time": "2018-04-24T19:46:42.139750Z"
    }
   },
   "outputs": [],
   "source": [
    "A.shape # A has 2 rows and 3 columns."
   ]
  },
  {
   "cell_type": "markdown",
   "metadata": {},
   "source": [
    "Just like Python lists, arrays can be indexed:"
   ]
  },
  {
   "cell_type": "code",
   "execution_count": null,
   "metadata": {
    "ExecuteTime": {
     "end_time": "2018-04-24T19:46:42.161229Z",
     "start_time": "2018-04-24T19:46:42.156040Z"
    }
   },
   "outputs": [],
   "source": [
    "X[0] # 1 is the first element of the list X"
   ]
  },
  {
   "cell_type": "code",
   "execution_count": null,
   "metadata": {
    "ExecuteTime": {
     "end_time": "2018-04-24T19:46:42.180985Z",
     "start_time": "2018-04-24T19:46:42.168644Z"
    }
   },
   "outputs": [],
   "source": [
    "# The first elemtent of A is just a smaller array representing the first row of A:\n",
    "A[0] "
   ]
  },
  {
   "cell_type": "code",
   "execution_count": null,
   "metadata": {
    "ExecuteTime": {
     "end_time": "2018-04-24T19:46:42.193429Z",
     "start_time": "2018-04-24T19:46:42.183993Z"
    }
   },
   "outputs": [],
   "source": [
    "# We index the array twice (if it is two-dimensional) to get to a particular element\n",
    "A[0][0]"
   ]
  },
  {
   "cell_type": "code",
   "execution_count": null,
   "metadata": {
    "ExecuteTime": {
     "end_time": "2018-04-24T19:46:42.212128Z",
     "start_time": "2018-04-24T19:46:42.206102Z"
    }
   },
   "outputs": [],
   "source": [
    "# Or you can use tuple indexing:\n",
    "A[(0,0)]"
   ]
  },
  {
   "cell_type": "markdown",
   "metadata": {},
   "source": [
    "#### Miscellaneous Numpy Functions:"
   ]
  },
  {
   "cell_type": "code",
   "execution_count": null,
   "metadata": {
    "ExecuteTime": {
     "end_time": "2018-04-24T19:46:42.229261Z",
     "start_time": "2018-04-24T19:46:42.220743Z"
    }
   },
   "outputs": [],
   "source": [
    "# range is a built-in Python function that returns a sequence of numbers\n",
    "range(0,10)"
   ]
  },
  {
   "cell_type": "code",
   "execution_count": null,
   "metadata": {
    "ExecuteTime": {
     "end_time": "2018-04-24T19:46:42.245120Z",
     "start_time": "2018-04-24T19:46:42.236227Z"
    }
   },
   "outputs": [],
   "source": [
    "# Numpy has an equivalent, which is great whenever you need a series of numbers\n",
    "# for the X-axis of a chart, for example.\n",
    "# Note that arange returns an array, whereas range returns a Python iterable object\n",
    "np.arange(0,10)"
   ]
  },
  {
   "cell_type": "code",
   "execution_count": null,
   "metadata": {
    "ExecuteTime": {
     "end_time": "2018-04-24T19:46:42.261167Z",
     "start_time": "2018-04-24T19:46:42.250304Z"
    }
   },
   "outputs": [],
   "source": [
    "# You can create arrays full of zeros, ones, or with random numbers:\n",
    "np.zeros((2,2))"
   ]
  },
  {
   "cell_type": "code",
   "execution_count": null,
   "metadata": {
    "ExecuteTime": {
     "end_time": "2018-04-24T19:46:42.274075Z",
     "start_time": "2018-04-24T19:46:42.264175Z"
    }
   },
   "outputs": [],
   "source": [
    "np.ones((2,2))"
   ]
  },
  {
   "cell_type": "code",
   "execution_count": null,
   "metadata": {
    "ExecuteTime": {
     "end_time": "2018-04-24T19:46:42.290281Z",
     "start_time": "2018-04-24T19:46:42.281149Z"
    }
   },
   "outputs": [],
   "source": [
    "np.random.random((2,2))"
   ]
  },
  {
   "cell_type": "code",
   "execution_count": null,
   "metadata": {
    "ExecuteTime": {
     "end_time": "2018-04-24T19:46:42.306202Z",
     "start_time": "2018-04-24T19:46:42.294799Z"
    }
   },
   "outputs": [],
   "source": [
    "# By default it spits out a single random number\n",
    "np.random.random()"
   ]
  },
  {
   "cell_type": "code",
   "execution_count": null,
   "metadata": {
    "ExecuteTime": {
     "end_time": "2018-04-24T19:46:42.318498Z",
     "start_time": "2018-04-24T19:46:42.309464Z"
    }
   },
   "outputs": [],
   "source": [
    "# Choice randomly chooses from the elements of some iterable\n",
    "# Here we choose from this list of strings 5 times, with replacement:\n",
    "np.random.choice(['red','green','blue'], size=5, replace=True)"
   ]
  },
  {
   "cell_type": "code",
   "execution_count": null,
   "metadata": {
    "ExecuteTime": {
     "end_time": "2018-04-24T19:46:42.331722Z",
     "start_time": "2018-04-24T19:46:42.322574Z"
    }
   },
   "outputs": [],
   "source": [
    "# An identity matrix is a two dimensional array with ones on the diagonal and zeros elsewhere:\n",
    "np.eye(2,2)"
   ]
  },
  {
   "cell_type": "markdown",
   "metadata": {},
   "source": [
    "In addition to arrays, Numpy has almost all statistical functions you may have heard of:"
   ]
  },
  {
   "cell_type": "code",
   "execution_count": null,
   "metadata": {
    "ExecuteTime": {
     "end_time": "2018-04-24T19:46:42.347904Z",
     "start_time": "2018-04-24T19:46:42.340711Z"
    }
   },
   "outputs": [],
   "source": [
    "np.mean([1,2,3])"
   ]
  },
  {
   "cell_type": "code",
   "execution_count": null,
   "metadata": {
    "ExecuteTime": {
     "end_time": "2018-04-24T19:46:42.360112Z",
     "start_time": "2018-04-24T19:46:42.350912Z"
    }
   },
   "outputs": [],
   "source": [
    "np.std([1,3,7])"
   ]
  },
  {
   "cell_type": "markdown",
   "metadata": {},
   "source": [
    "You will learn more about statistics and Numpy in an upcoming lecture."
   ]
  },
  {
   "cell_type": "markdown",
   "metadata": {},
   "source": [
    "### Pandas"
   ]
  },
  {
   "cell_type": "markdown",
   "metadata": {},
   "source": [
    "Pandas is a data manipulation library built on top of Numpy. Almost all of the time, you will use Pandas to store and interact with your data.\n",
    "\n",
    "While Numpy gives us arrays to work with, Pandas provides Dataframes. A Dataframe is the basic tabular data structure you'll use in this course. Since they have rows and columns, they are always two-dimensional. Typically you will read in data from some source, like a CSV. But we can also construct them from scratch:"
   ]
  },
  {
   "cell_type": "code",
<<<<<<< HEAD
   "execution_count": 6,
=======
   "execution_count": 2,
>>>>>>> 898c6899748922b3c87b3fd40c248b9707a790e7
   "metadata": {
    "ExecuteTime": {
     "end_time": "2018-04-30T21:27:04.379692Z",
     "start_time": "2018-04-30T21:27:03.960569Z"
    }
   },
   "outputs": [
    {
     "data": {
      "text/html": [
       "<div>\n",
       "<style scoped>\n",
       "    .dataframe tbody tr th:only-of-type {\n",
       "        vertical-align: middle;\n",
       "    }\n",
       "\n",
       "    .dataframe tbody tr th {\n",
       "        vertical-align: top;\n",
       "    }\n",
       "\n",
       "    .dataframe thead th {\n",
       "        text-align: right;\n",
       "    }\n",
       "</style>\n",
       "<table border=\"1\" class=\"dataframe\">\n",
       "  <thead>\n",
       "    <tr style=\"text-align: right;\">\n",
       "      <th></th>\n",
       "      <th>0</th>\n",
       "      <th>1</th>\n",
       "      <th>2</th>\n",
       "    </tr>\n",
       "  </thead>\n",
       "  <tbody>\n",
       "    <tr>\n",
       "      <th>0</th>\n",
       "      <td>1</td>\n",
       "      <td>2</td>\n",
       "      <td>A</td>\n",
       "    </tr>\n",
       "    <tr>\n",
       "      <th>1</th>\n",
       "      <td>3</td>\n",
       "      <td>4</td>\n",
       "      <td>B</td>\n",
       "    </tr>\n",
       "    <tr>\n",
       "      <th>2</th>\n",
       "      <td>5</td>\n",
       "      <td>6</td>\n",
       "      <td>C</td>\n",
       "    </tr>\n",
       "  </tbody>\n",
       "</table>\n",
       "</div>"
      ],
      "text/plain": [
       "   0  1  2\n",
       "0  1  2  A\n",
       "1  3  4  B\n",
       "2  5  6  C"
      ]
     },
<<<<<<< HEAD
     "execution_count": 6,
=======
     "execution_count": 2,
>>>>>>> 898c6899748922b3c87b3fd40c248b9707a790e7
     "metadata": {},
     "output_type": "execute_result"
    }
   ],
   "source": [
    "import pandas as pd\n",
    "\n",
    "df = pd.DataFrame([[1,2,'A'],\n",
    "                   [3,4,'B'],\n",
    "                   [5,6,'C']])\n",
    "df"
   ]
  },
  {
   "cell_type": "code",
<<<<<<< HEAD
   "execution_count": 7,
=======
   "execution_count": 3,
>>>>>>> 898c6899748922b3c87b3fd40c248b9707a790e7
   "metadata": {
    "ExecuteTime": {
     "end_time": "2018-04-30T21:27:11.065329Z",
     "start_time": "2018-04-30T21:27:11.056864Z"
    }
   },
   "outputs": [
    {
     "data": {
      "text/plain": [
       "array([['1', '2', 'A'],\n",
       "       ['3', '4', 'B'],\n",
       "       ['5', '6', 'C']], dtype='<U21')"
      ]
     },
<<<<<<< HEAD
     "execution_count": 7,
=======
     "execution_count": 3,
>>>>>>> 898c6899748922b3c87b3fd40c248b9707a790e7
     "metadata": {},
     "output_type": "execute_result"
    }
   ],
   "source": [
    "# Compare the dataframe above with an array constructed in the same way:\n",
    "np.array([[1,2,'A'],[3,4,'B'],[5,6,'C']])"
   ]
  },
  {
   "cell_type": "markdown",
   "metadata": {},
   "source": [
    "There are a few differences you should notice right away. Jupyter Notebooks displays Dataframes really nicely, whereas arrays are just shown as a list of lists.\n",
    "\n",
    "Secondly, dataframes can contain elements of more than one type. Notice that Numpy treats all of the elements of the array as characters. Dataframes can hold data of different types in each column.\n",
    "\n",
    "Lastly, the Dataframe is *labelled*. Each row and column has a label, or index. Dataframes can be thought of as labeled two-dimensional arrays.\n",
    "\n",
    "Lets play with some of these features of dataframes."
   ]
  },
  {
   "cell_type": "code",
<<<<<<< HEAD
   "execution_count": 8,
=======
   "execution_count": 4,
>>>>>>> 898c6899748922b3c87b3fd40c248b9707a790e7
   "metadata": {
    "ExecuteTime": {
     "end_time": "2018-04-30T21:28:52.697543Z",
     "start_time": "2018-04-30T21:28:52.688336Z"
    }
   },
   "outputs": [
    {
     "data": {
      "text/plain": [
       "0     int64\n",
       "1     int64\n",
       "2    object\n",
       "dtype: object"
      ]
     },
<<<<<<< HEAD
     "execution_count": 8,
=======
     "execution_count": 4,
>>>>>>> 898c6899748922b3c87b3fd40c248b9707a790e7
     "metadata": {},
     "output_type": "execute_result"
    }
   ],
   "source": [
    "# Because Pandas is based on Numpy, many of the methods are the same or similar.\n",
    "# In Numpy .dtype returns the type of the elements in the array.\n",
    "# In Pandas, .dtypes returns the data type of each column:\n",
    "df.dtypes\n",
    "# This will be one of the Pandas commands you use most often"
   ]
  },
  {
   "cell_type": "code",
<<<<<<< HEAD
   "execution_count": 9,
=======
   "execution_count": 5,
>>>>>>> 898c6899748922b3c87b3fd40c248b9707a790e7
   "metadata": {
    "ExecuteTime": {
     "end_time": "2018-04-30T21:29:48.699684Z",
     "start_time": "2018-04-30T21:29:48.693669Z"
    }
   },
   "outputs": [
    {
     "data": {
      "text/plain": [
       "(3, 3)"
      ]
     },
<<<<<<< HEAD
     "execution_count": 9,
=======
     "execution_count": 5,
>>>>>>> 898c6899748922b3c87b3fd40c248b9707a790e7
     "metadata": {},
     "output_type": "execute_result"
    }
   ],
   "source": [
    "# You can examine the shape a dataframe, just like you would with an array:\n",
    "df.shape"
   ]
  },
  {
   "cell_type": "code",
<<<<<<< HEAD
   "execution_count": 10,
=======
   "execution_count": 7,
>>>>>>> 898c6899748922b3c87b3fd40c248b9707a790e7
   "metadata": {
    "ExecuteTime": {
     "end_time": "2018-04-30T21:31:04.007563Z",
     "start_time": "2018-04-30T21:31:03.995526Z"
    }
   },
   "outputs": [
    {
     "data": {
      "text/plain": [
       "array([[1, 2, 'A'],\n",
       "       [3, 4, 'B'],\n",
       "       [5, 6, 'C']], dtype=object)"
      ]
     },
<<<<<<< HEAD
     "execution_count": 10,
=======
     "execution_count": 7,
>>>>>>> 898c6899748922b3c87b3fd40c248b9707a790e7
     "metadata": {},
     "output_type": "execute_result"
    }
   ],
   "source": [
    "# Since dataframes are just labeled arrays, we can return the array\n",
    "# that a dataframe is built on top of:\n",
    "df.values"
   ]
  },
  {
   "cell_type": "code",
<<<<<<< HEAD
   "execution_count": 11,
=======
   "execution_count": 8,
>>>>>>> 898c6899748922b3c87b3fd40c248b9707a790e7
   "metadata": {
    "ExecuteTime": {
     "end_time": "2018-04-30T21:31:43.688027Z",
     "start_time": "2018-04-30T21:31:43.678000Z"
    }
   },
   "outputs": [
    {
     "data": {
      "text/plain": [
       "RangeIndex(start=0, stop=3, step=1)"
      ]
     },
<<<<<<< HEAD
     "execution_count": 11,
=======
     "execution_count": 8,
>>>>>>> 898c6899748922b3c87b3fd40c248b9707a790e7
     "metadata": {},
     "output_type": "execute_result"
    }
   ],
   "source": [
    "# The columns labels of a dataframe can be accessed:\n",
    "df.columns"
   ]
  },
  {
   "cell_type": "code",
<<<<<<< HEAD
   "execution_count": 12,
=======
   "execution_count": 9,
   "metadata": {
    "ExecuteTime": {
     "end_time": "2018-04-30T21:32:21.568385Z",
     "start_time": "2018-04-30T21:32:21.554401Z"
    }
   },
   "outputs": [
    {
     "data": {
      "text/html": [
       "<div>\n",
       "<style scoped>\n",
       "    .dataframe tbody tr th:only-of-type {\n",
       "        vertical-align: middle;\n",
       "    }\n",
       "\n",
       "    .dataframe tbody tr th {\n",
       "        vertical-align: top;\n",
       "    }\n",
       "\n",
       "    .dataframe thead th {\n",
       "        text-align: right;\n",
       "    }\n",
       "</style>\n",
       "<table border=\"1\" class=\"dataframe\">\n",
       "  <thead>\n",
       "    <tr style=\"text-align: right;\">\n",
       "      <th></th>\n",
       "      <th>Column One</th>\n",
       "      <th>Column Two</th>\n",
       "      <th>Column Three</th>\n",
       "    </tr>\n",
       "  </thead>\n",
       "  <tbody>\n",
       "    <tr>\n",
       "      <th>0</th>\n",
       "      <td>1</td>\n",
       "      <td>2</td>\n",
       "      <td>A</td>\n",
       "    </tr>\n",
       "    <tr>\n",
       "      <th>1</th>\n",
       "      <td>3</td>\n",
       "      <td>4</td>\n",
       "      <td>B</td>\n",
       "    </tr>\n",
       "    <tr>\n",
       "      <th>2</th>\n",
       "      <td>5</td>\n",
       "      <td>6</td>\n",
       "      <td>C</td>\n",
       "    </tr>\n",
       "  </tbody>\n",
       "</table>\n",
       "</div>"
      ],
      "text/plain": [
       "   Column One  Column Two Column Three\n",
       "0           1           2            A\n",
       "1           3           4            B\n",
       "2           5           6            C"
      ]
     },
     "execution_count": 9,
     "metadata": {},
     "output_type": "execute_result"
    }
   ],
   "source": [
    "# And changed:\n",
    "df.columns = ['Column One','Column Two','Column Three']\n",
    "df"
   ]
  },
  {
   "cell_type": "code",
   "execution_count": 10,
   "metadata": {
    "ExecuteTime": {
     "end_time": "2018-04-30T21:32:58.721060Z",
     "start_time": "2018-04-30T21:32:58.714543Z"
    }
   },
   "outputs": [
    {
     "data": {
      "text/plain": [
       "RangeIndex(start=0, stop=3, step=1)"
      ]
     },
     "execution_count": 10,
     "metadata": {},
     "output_type": "execute_result"
    }
   ],
   "source": [
    "# The row labels of a dataframe are the index:\n",
    "df.index\n",
    "# Typically the index just counts up from 0, unless you've rearranged your data."
   ]
  },
  {
   "cell_type": "code",
   "execution_count": 12,
   "metadata": {
    "ExecuteTime": {
     "end_time": "2018-04-30T21:34:02.550048Z",
     "start_time": "2018-04-30T21:34:02.537012Z"
    }
   },
   "outputs": [
    {
     "data": {
      "text/html": [
       "<div>\n",
       "<style scoped>\n",
       "    .dataframe tbody tr th:only-of-type {\n",
       "        vertical-align: middle;\n",
       "    }\n",
       "\n",
       "    .dataframe tbody tr th {\n",
       "        vertical-align: top;\n",
       "    }\n",
       "\n",
       "    .dataframe thead th {\n",
       "        text-align: right;\n",
       "    }\n",
       "</style>\n",
       "<table border=\"1\" class=\"dataframe\">\n",
       "  <thead>\n",
       "    <tr style=\"text-align: right;\">\n",
       "      <th></th>\n",
       "      <th>Column One</th>\n",
       "      <th>Column Two</th>\n",
       "      <th>Column Three</th>\n",
       "    </tr>\n",
       "  </thead>\n",
       "  <tbody>\n",
       "    <tr>\n",
       "      <th>3</th>\n",
       "      <td>1</td>\n",
       "      <td>2</td>\n",
       "      <td>A</td>\n",
       "    </tr>\n",
       "    <tr>\n",
       "      <th>4</th>\n",
       "      <td>3</td>\n",
       "      <td>4</td>\n",
       "      <td>B</td>\n",
       "    </tr>\n",
       "    <tr>\n",
       "      <th>5</th>\n",
       "      <td>5</td>\n",
       "      <td>6</td>\n",
       "      <td>C</td>\n",
       "    </tr>\n",
       "  </tbody>\n",
       "</table>\n",
       "</div>"
      ],
      "text/plain": [
       "   Column One  Column Two Column Three\n",
       "3           1           2            A\n",
       "4           3           4            B\n",
       "5           5           6            C"
      ]
     },
     "execution_count": 12,
     "metadata": {},
     "output_type": "execute_result"
    }
   ],
   "source": [
    "# You can assign a new index to the data:\n",
    "df.index = [3,4,5]\n",
    "df"
   ]
  },
  {
   "cell_type": "code",
   "execution_count": 16,
   "metadata": {
    "ExecuteTime": {
     "end_time": "2018-04-30T21:35:21.482577Z",
     "start_time": "2018-04-30T21:35:21.468540Z"
    }
   },
   "outputs": [
    {
     "data": {
      "text/html": [
       "<div>\n",
       "<style scoped>\n",
       "    .dataframe tbody tr th:only-of-type {\n",
       "        vertical-align: middle;\n",
       "    }\n",
       "\n",
       "    .dataframe tbody tr th {\n",
       "        vertical-align: top;\n",
       "    }\n",
       "\n",
       "    .dataframe thead th {\n",
       "        text-align: right;\n",
       "    }\n",
       "</style>\n",
       "<table border=\"1\" class=\"dataframe\">\n",
       "  <thead>\n",
       "    <tr style=\"text-align: right;\">\n",
       "      <th></th>\n",
       "      <th>Column Two</th>\n",
       "      <th>Column Three</th>\n",
       "    </tr>\n",
       "    <tr>\n",
       "      <th>Column One</th>\n",
       "      <th></th>\n",
       "      <th></th>\n",
       "    </tr>\n",
       "  </thead>\n",
       "  <tbody>\n",
       "    <tr>\n",
       "      <th>1</th>\n",
       "      <td>2</td>\n",
       "      <td>A</td>\n",
       "    </tr>\n",
       "    <tr>\n",
       "      <th>3</th>\n",
       "      <td>4</td>\n",
       "      <td>B</td>\n",
       "    </tr>\n",
       "    <tr>\n",
       "      <th>5</th>\n",
       "      <td>6</td>\n",
       "      <td>C</td>\n",
       "    </tr>\n",
       "  </tbody>\n",
       "</table>\n",
       "</div>"
      ],
      "text/plain": [
       "            Column Two Column Three\n",
       "Column One                         \n",
       "1                    2            A\n",
       "3                    4            B\n",
       "5                    6            C"
      ]
     },
     "execution_count": 16,
     "metadata": {},
     "output_type": "execute_result"
    }
   ],
   "source": [
    "# Or you can choose a pre-existing column to be the index:\n",
    "df.set_index('Column One')\n",
    "\n",
    "# Side note about operations occuring in place:\n",
    "# Notice that this operation hasn't occured 'in place.' Some Pandas\n",
    "# operations occur in place, and others don't. You'll just have to remember\n",
    "# which is which. "
   ]
  },
  {
   "cell_type": "code",
   "execution_count": 17,
>>>>>>> 898c6899748922b3c87b3fd40c248b9707a790e7
   "metadata": {
    "ExecuteTime": {
     "end_time": "2018-04-30T21:35:34.101638Z",
     "start_time": "2018-04-30T21:35:34.090108Z"
    }
   },
   "outputs": [
    {
     "data": {
      "text/html": [
       "<div>\n",
       "<style scoped>\n",
       "    .dataframe tbody tr th:only-of-type {\n",
       "        vertical-align: middle;\n",
       "    }\n",
       "\n",
       "    .dataframe tbody tr th {\n",
       "        vertical-align: top;\n",
       "    }\n",
       "\n",
       "    .dataframe thead th {\n",
       "        text-align: right;\n",
       "    }\n",
       "</style>\n",
       "<table border=\"1\" class=\"dataframe\">\n",
       "  <thead>\n",
       "    <tr style=\"text-align: right;\">\n",
       "      <th></th>\n",
       "      <th>Column One</th>\n",
       "      <th>Column Two</th>\n",
       "      <th>Column Three</th>\n",
       "    </tr>\n",
       "  </thead>\n",
       "  <tbody>\n",
       "    <tr>\n",
       "      <th>0</th>\n",
       "      <td>1</td>\n",
       "      <td>2</td>\n",
       "      <td>A</td>\n",
       "    </tr>\n",
       "    <tr>\n",
       "      <th>1</th>\n",
       "      <td>3</td>\n",
       "      <td>4</td>\n",
       "      <td>B</td>\n",
       "    </tr>\n",
       "    <tr>\n",
       "      <th>2</th>\n",
       "      <td>5</td>\n",
       "      <td>6</td>\n",
       "      <td>C</td>\n",
       "    </tr>\n",
       "  </tbody>\n",
       "</table>\n",
       "</div>"
      ],
      "text/plain": [
       "   Column One  Column Two Column Three\n",
       "0           1           2            A\n",
       "1           3           4            B\n",
       "2           5           6            C"
      ]
     },
<<<<<<< HEAD
     "execution_count": 12,
=======
     "execution_count": 17,
>>>>>>> 898c6899748922b3c87b3fd40c248b9707a790e7
     "metadata": {},
     "output_type": "execute_result"
    }
   ],
   "source": [
    "# For example, lets change the index back to [0,1,2]. This operation is not in place:\n",
    "df = df.reset_index(drop=True)\n",
    "df"
   ]
  },
  {
   "cell_type": "code",
<<<<<<< HEAD
   "execution_count": 13,
=======
   "execution_count": 18,
   "metadata": {
    "ExecuteTime": {
     "end_time": "2018-04-30T21:35:51.598085Z",
     "start_time": "2018-04-30T21:35:51.589060Z"
    }
   },
   "outputs": [],
   "source": [
    "# If an operation is 'in place,' then it affects the object it is called on, without\n",
    "# returning anything. Lets say I want to drop duplicate values, which by default does \n",
    "# not occur in place:\n",
    "df = df.drop_duplicates()"
   ]
  },
  {
   "cell_type": "code",
   "execution_count": 25,
>>>>>>> 898c6899748922b3c87b3fd40c248b9707a790e7
   "metadata": {
    "ExecuteTime": {
     "end_time": "2018-04-30T21:38:00.811504Z",
     "start_time": "2018-04-30T21:38:00.793503Z"
    }
   },
   "outputs": [
    {
     "data": {
      "text/html": [
       "<div>\n",
       "<style scoped>\n",
       "    .dataframe tbody tr th:only-of-type {\n",
       "        vertical-align: middle;\n",
       "    }\n",
       "\n",
       "    .dataframe tbody tr th {\n",
       "        vertical-align: top;\n",
       "    }\n",
       "\n",
       "    .dataframe thead th {\n",
       "        text-align: right;\n",
       "    }\n",
       "</style>\n",
       "<table border=\"1\" class=\"dataframe\">\n",
       "  <thead>\n",
       "    <tr style=\"text-align: right;\">\n",
       "      <th></th>\n",
       "      <th>Column One</th>\n",
       "      <th>Column Two</th>\n",
       "      <th>Column Three</th>\n",
       "    </tr>\n",
       "  </thead>\n",
       "  <tbody>\n",
       "    <tr>\n",
       "      <th>0</th>\n",
       "      <td>1</td>\n",
       "      <td>2</td>\n",
       "      <td>A</td>\n",
       "    </tr>\n",
       "    <tr>\n",
       "      <th>1</th>\n",
       "      <td>3</td>\n",
       "      <td>4</td>\n",
       "      <td>B</td>\n",
       "    </tr>\n",
       "    <tr>\n",
       "      <th>2</th>\n",
       "      <td>5</td>\n",
       "      <td>6</td>\n",
       "      <td>C</td>\n",
       "    </tr>\n",
       "  </tbody>\n",
       "</table>\n",
       "</div>"
      ],
      "text/plain": [
       "   Column One  Column Two Column Three\n",
       "0           1           2            A\n",
       "1           3           4            B\n",
       "2           5           6            C"
      ]
     },
<<<<<<< HEAD
     "execution_count": 13,
=======
     "execution_count": 25,
>>>>>>> 898c6899748922b3c87b3fd40c248b9707a790e7
     "metadata": {},
     "output_type": "execute_result"
    }
   ],
   "source": [
<<<<<<< HEAD
    "# The row labels of a dataframe are the index:\n",
    "df.index\n",
    "# Typically the index just counts up from 0, unless you've rearranged your data."
   ]
  },
  {
   "cell_type": "code",
   "execution_count": 14,
   "metadata": {
    "ExecuteTime": {
     "end_time": "2018-04-24T19:46:43.031841Z",
     "start_time": "2018-04-24T19:46:43.024769Z"
    }
   },
   "outputs": [],
   "source": [
    "# You can assign a new index to the data:\n",
    "df.index = [3,4,5]"
=======
    "df.dropna(axis=1, how='all')"
>>>>>>> 898c6899748922b3c87b3fd40c248b9707a790e7
   ]
  },
  {
   "cell_type": "code",
<<<<<<< HEAD
   "execution_count": 15,
=======
   "execution_count": 25,
>>>>>>> 898c6899748922b3c87b3fd40c248b9707a790e7
   "metadata": {
    "ExecuteTime": {
     "end_time": "2018-04-30T21:38:00.811504Z",
     "start_time": "2018-04-30T21:38:00.793503Z"
    }
   },
   "outputs": [
    {
     "data": {
      "text/html": [
       "<div>\n",
       "<style scoped>\n",
       "    .dataframe tbody tr th:only-of-type {\n",
       "        vertical-align: middle;\n",
       "    }\n",
       "\n",
       "    .dataframe tbody tr th {\n",
       "        vertical-align: top;\n",
       "    }\n",
       "\n",
       "    .dataframe thead th {\n",
       "        text-align: right;\n",
       "    }\n",
       "</style>\n",
       "<table border=\"1\" class=\"dataframe\">\n",
       "  <thead>\n",
       "    <tr style=\"text-align: right;\">\n",
       "      <th></th>\n",
       "      <th>Column One</th>\n",
       "      <th>Column Two</th>\n",
       "      <th>Column Three</th>\n",
       "    </tr>\n",
       "  </thead>\n",
       "  <tbody>\n",
       "    <tr>\n",
       "      <th>0</th>\n",
       "      <td>1</td>\n",
       "      <td>2</td>\n",
       "      <td>A</td>\n",
       "    </tr>\n",
       "    <tr>\n",
       "      <th>1</th>\n",
       "      <td>3</td>\n",
       "      <td>4</td>\n",
       "      <td>B</td>\n",
       "    </tr>\n",
       "    <tr>\n",
       "      <th>2</th>\n",
       "      <td>5</td>\n",
       "      <td>6</td>\n",
       "      <td>C</td>\n",
       "    </tr>\n",
       "  </tbody>\n",
       "</table>\n",
       "</div>"
      ],
      "text/plain": [
       "   Column One  Column Two Column Three\n",
       "0           1           2            A\n",
       "1           3           4            B\n",
       "2           5           6            C"
      ]
     },
<<<<<<< HEAD
     "execution_count": 15,
=======
     "execution_count": 25,
>>>>>>> 898c6899748922b3c87b3fd40c248b9707a790e7
     "metadata": {},
     "output_type": "execute_result"
    }
   ],
   "source": [
    "df.dropna(axis=0, how='any')"
   ]
  },
  {
   "cell_type": "code",
<<<<<<< HEAD
   "execution_count": 16,
=======
   "execution_count": 27,
>>>>>>> 898c6899748922b3c87b3fd40c248b9707a790e7
   "metadata": {
    "ExecuteTime": {
     "end_time": "2018-04-30T21:39:38.407323Z",
     "start_time": "2018-04-30T21:39:38.393837Z"
    }
   },
   "outputs": [
    {
     "data": {
      "text/html": [
       "<div>\n",
       "<style scoped>\n",
       "    .dataframe tbody tr th:only-of-type {\n",
       "        vertical-align: middle;\n",
       "    }\n",
       "\n",
       "    .dataframe tbody tr th {\n",
       "        vertical-align: top;\n",
       "    }\n",
       "\n",
       "    .dataframe thead th {\n",
       "        text-align: right;\n",
       "    }\n",
       "</style>\n",
       "<table border=\"1\" class=\"dataframe\">\n",
       "  <thead>\n",
       "    <tr style=\"text-align: right;\">\n",
       "      <th></th>\n",
       "      <th>Column Two</th>\n",
       "      <th>Column Three</th>\n",
       "    </tr>\n",
       "  </thead>\n",
       "  <tbody>\n",
       "    <tr>\n",
       "      <th>0</th>\n",
       "      <td>2</td>\n",
       "      <td>A</td>\n",
       "    </tr>\n",
       "    <tr>\n",
       "      <th>1</th>\n",
       "      <td>4</td>\n",
       "      <td>B</td>\n",
       "    </tr>\n",
       "    <tr>\n",
       "      <th>2</th>\n",
       "      <td>6</td>\n",
       "      <td>C</td>\n",
       "    </tr>\n",
       "  </tbody>\n",
       "</table>\n",
       "</div>"
      ],
      "text/plain": [
       "   Column Two Column Three\n",
       "0           2            A\n",
       "1           4            B\n",
       "2           6            C"
      ]
     },
<<<<<<< HEAD
     "execution_count": 16,
=======
     "execution_count": 27,
>>>>>>> 898c6899748922b3c87b3fd40c248b9707a790e7
     "metadata": {},
     "output_type": "execute_result"
    }
   ],
   "source": [
    "df.drop('Column One', axis=1)"
   ]
  },
  {
   "cell_type": "code",
<<<<<<< HEAD
   "execution_count": 17,
=======
   "execution_count": 41,
>>>>>>> 898c6899748922b3c87b3fd40c248b9707a790e7
   "metadata": {
    "ExecuteTime": {
     "end_time": "2018-04-30T21:47:51.044860Z",
     "start_time": "2018-04-30T21:47:51.035825Z"
    }
   },
   "outputs": [
    {
     "data": {
      "text/plain": [
       "C    1\n",
       "B    1\n",
       "A    1\n",
       "Name: Column Three, dtype: int64"
      ]
     },
     "execution_count": 41,
     "metadata": {},
     "output_type": "execute_result"
    }
   ],
   "source": [
    "df['Column Three'].value_counts()"
   ]
  },
  {
   "cell_type": "code",
<<<<<<< HEAD
   "execution_count": 18,
=======
   "execution_count": 36,
   "metadata": {
    "ExecuteTime": {
     "end_time": "2018-04-30T21:45:46.945263Z",
     "start_time": "2018-04-30T21:45:46.938529Z"
    }
   },
   "outputs": [
    {
     "data": {
      "text/plain": [
       "array(['A', 'B', 'C'], dtype=object)"
      ]
     },
     "execution_count": 36,
     "metadata": {},
     "output_type": "execute_result"
    }
   ],
   "source": [
    "df['Column Three'].unique()"
   ]
  },
  {
   "cell_type": "code",
   "execution_count": 39,
   "metadata": {
    "ExecuteTime": {
     "end_time": "2018-04-30T21:47:25.874816Z",
     "start_time": "2018-04-30T21:47:25.868799Z"
    }
   },
   "outputs": [
    {
     "data": {
      "text/plain": [
       "3"
      ]
     },
     "execution_count": 39,
     "metadata": {},
     "output_type": "execute_result"
    }
   ],
   "source": [
    "df['Column Three'].nunique()"
   ]
  },
  {
   "cell_type": "code",
   "execution_count": 19,
>>>>>>> 898c6899748922b3c87b3fd40c248b9707a790e7
   "metadata": {
    "ExecuteTime": {
     "end_time": "2018-04-30T21:35:58.166394Z",
     "start_time": "2018-04-30T21:35:58.159877Z"
    }
   },
   "outputs": [],
   "source": [
    "# But I can make it occur in place:\n",
    "df2 = df.drop_duplicates(inplace=True)"
   ]
  },
  {
   "cell_type": "code",
<<<<<<< HEAD
   "execution_count": 19,
=======
   "execution_count": 20,
>>>>>>> 898c6899748922b3c87b3fd40c248b9707a790e7
   "metadata": {
    "ExecuteTime": {
     "end_time": "2018-04-30T21:36:00.902646Z",
     "start_time": "2018-04-30T21:36:00.898168Z"
    }
   },
   "outputs": [],
   "source": [
    "# If I do that, what have I assigned to df2?\n",
    "df2\n",
    "\n",
    "# When you run this cell, nothing is returned. Thats because an in place operation returns no output."
   ]
  },
  {
   "cell_type": "code",
<<<<<<< HEAD
   "execution_count": 20,
=======
   "execution_count": 21,
>>>>>>> 898c6899748922b3c87b3fd40c248b9707a790e7
   "metadata": {
    "ExecuteTime": {
     "end_time": "2018-04-30T21:36:04.302108Z",
     "start_time": "2018-04-30T21:36:04.296591Z"
    }
   },
   "outputs": [
    {
     "data": {
      "text/plain": [
       "NoneType"
      ]
     },
<<<<<<< HEAD
     "execution_count": 20,
=======
     "execution_count": 21,
>>>>>>> 898c6899748922b3c87b3fd40c248b9707a790e7
     "metadata": {},
     "output_type": "execute_result"
    }
   ],
   "source": [
    "# Objects with nothing assigned to them are of type NoneType:\n",
    "type(df2)\n",
    "# If you ever observe a NoneType error, it means you've probably made this mistake."
   ]
  },
  {
   "cell_type": "code",
<<<<<<< HEAD
   "execution_count": 21,
=======
   "execution_count": 22,
>>>>>>> 898c6899748922b3c87b3fd40c248b9707a790e7
   "metadata": {
    "ExecuteTime": {
     "end_time": "2018-04-30T21:36:33.425786Z",
     "start_time": "2018-04-30T21:36:33.416288Z"
    }
   },
   "outputs": [
    {
     "data": {
      "text/plain": [
       "0    1\n",
       "1    3\n",
       "2    5\n",
       "Name: Column One, dtype: int64"
      ]
     },
<<<<<<< HEAD
     "execution_count": 21,
=======
     "execution_count": 22,
>>>>>>> 898c6899748922b3c87b3fd40c248b9707a790e7
     "metadata": {},
     "output_type": "execute_result"
    }
   ],
   "source": [
    "# To select a certain column, just pass the name of the column to the square brackets which we \n",
    "# usually use for subsetting and indexing. If you want more than one column, pass a list of column names.\n",
    "df['Column One']"
   ]
  },
  {
   "cell_type": "markdown",
   "metadata": {},
   "source": [
    "A Pandas series is just a one-dimensional collection of data. When you're working with dataframes, always remember that your columns are Pandas series:"
   ]
  },
  {
   "cell_type": "code",
<<<<<<< HEAD
   "execution_count": 22,
=======
   "execution_count": 42,
>>>>>>> 898c6899748922b3c87b3fd40c248b9707a790e7
   "metadata": {
    "ExecuteTime": {
     "end_time": "2018-04-30T21:48:03.365656Z",
     "start_time": "2018-04-30T21:48:03.359215Z"
    }
   },
   "outputs": [
    {
     "data": {
      "text/plain": [
       "pandas.core.series.Series"
      ]
     },
<<<<<<< HEAD
     "execution_count": 22,
=======
     "execution_count": 42,
>>>>>>> 898c6899748922b3c87b3fd40c248b9707a790e7
     "metadata": {},
     "output_type": "execute_result"
    }
   ],
   "source": [
    "type(df['Column One'])"
   ]
  },
  {
   "cell_type": "markdown",
   "metadata": {
    "collapsed": true
   },
   "source": [
    "As you work with Pandas, remember that certain functions apply to series, and some to dataframes. For example, the functions dealing with setting the index operate on the entire dataframe. But if you want to calculate the mean of a column, you're working with each column as a series."
   ]
  },
  {
   "cell_type": "code",
   "execution_count": 27,
   "metadata": {},
   "outputs": [
    {
     "data": {
      "text/plain": [
       "A    0.333333\n",
       "B    0.333333\n",
       "C    0.333333\n",
       "Name: Column Three, dtype: float64"
      ]
     },
     "execution_count": 27,
     "metadata": {},
     "output_type": "execute_result"
    }
   ],
   "source": [
    "df[\"Column Three\"].value_counts('C')"
   ]
  },
  {
   "cell_type": "markdown",
   "metadata": {},
   "source": [
    "If you want to apply a function to every column of the dataframe, you can use the .apply method. Make sure the function you pass to the apply method is a function that works on series:"
   ]
  },
  {
   "cell_type": "code",
   "execution_count": 45,
   "metadata": {
    "ExecuteTime": {
     "end_time": "2018-04-30T21:49:07.788991Z",
     "start_time": "2018-04-30T21:49:07.778936Z"
    }
   },
   "outputs": [
    {
     "data": {
      "text/plain": [
       "Column One      5\n",
       "Column Two      6\n",
       "Column Three    C\n",
       "dtype: object"
      ]
     },
     "execution_count": 45,
     "metadata": {},
     "output_type": "execute_result"
    }
   ],
   "source": [
    "df.apply(np.max)\n",
    "\n",
    "# Here we've applied the max function from numpy to every column. Note that in Python, C > B > A."
   ]
  },
  {
   "cell_type": "markdown",
   "metadata": {},
   "source": [
    "Pandas knows there are a lot of functions we might want to apply to all the columns, though, so it lets us just apply them directly to the dataframe:"
   ]
  },
  {
   "cell_type": "code",
   "execution_count": 46,
   "metadata": {
    "ExecuteTime": {
     "end_time": "2018-04-30T21:49:36.399261Z",
     "start_time": "2018-04-30T21:49:36.390734Z"
    }
   },
   "outputs": [
    {
     "data": {
      "text/plain": [
       "Column One      5\n",
       "Column Two      6\n",
       "Column Three    C\n",
       "dtype: object"
      ]
     },
     "execution_count": 46,
     "metadata": {},
     "output_type": "execute_result"
    }
   ],
   "source": [
    "df.max()"
   ]
  },
  {
   "cell_type": "markdown",
   "metadata": {},
   "source": [
    "Other times we might want to create new columns from our existing columns. We can work with the columns directly as series:"
   ]
  },
  {
   "cell_type": "code",
<<<<<<< HEAD
   "execution_count": 29,
   "metadata": {},
   "outputs": [
    {
     "data": {
      "text/html": [
       "<div>\n",
       "<style scoped>\n",
       "    .dataframe tbody tr th:only-of-type {\n",
       "        vertical-align: middle;\n",
       "    }\n",
       "\n",
       "    .dataframe tbody tr th {\n",
       "        vertical-align: top;\n",
       "    }\n",
       "\n",
       "    .dataframe thead th {\n",
       "        text-align: right;\n",
       "    }\n",
       "</style>\n",
       "<table border=\"1\" class=\"dataframe\">\n",
       "  <thead>\n",
       "    <tr style=\"text-align: right;\">\n",
       "      <th></th>\n",
       "      <th>Column One</th>\n",
       "      <th>Column Two</th>\n",
       "      <th>Column Three</th>\n",
       "    </tr>\n",
       "  </thead>\n",
       "  <tbody>\n",
       "    <tr>\n",
       "      <th>0</th>\n",
       "      <td>1</td>\n",
       "      <td>2</td>\n",
       "      <td>A</td>\n",
       "    </tr>\n",
       "    <tr>\n",
       "      <th>1</th>\n",
       "      <td>3</td>\n",
       "      <td>4</td>\n",
       "      <td>B</td>\n",
       "    </tr>\n",
       "    <tr>\n",
       "      <th>2</th>\n",
       "      <td>5</td>\n",
       "      <td>6</td>\n",
       "      <td>C</td>\n",
       "    </tr>\n",
       "  </tbody>\n",
       "</table>\n",
       "</div>"
      ],
      "text/plain": [
       "   Column One  Column Two Column Three\n",
       "0           1           2            A\n",
       "1           3           4            B\n",
       "2           5           6            C"
      ]
     },
     "execution_count": 29,
     "metadata": {},
     "output_type": "execute_result"
    }
   ],
   "source": [
    "df\n"
   ]
  },
  {
   "cell_type": "code",
   "execution_count": 28,
=======
   "execution_count": 51,
>>>>>>> 898c6899748922b3c87b3fd40c248b9707a790e7
   "metadata": {
    "ExecuteTime": {
     "end_time": "2018-04-30T21:52:09.931316Z",
     "start_time": "2018-04-30T21:52:09.926306Z"
    }
   },
<<<<<<< HEAD
   "outputs": [
    {
     "data": {
      "text/plain": [
       "0     2\n",
       "1    12\n",
       "2    30\n",
       "dtype: int64"
      ]
     },
     "execution_count": 28,
     "metadata": {},
     "output_type": "execute_result"
    }
   ],
=======
   "outputs": [],
>>>>>>> 898c6899748922b3c87b3fd40c248b9707a790e7
   "source": [
    "df['One Times Two'] = df['Column One'] * df['Column Two']"
   ]
  },
  {
   "cell_type": "markdown",
   "metadata": {},
   "source": [
    "There's a lot more you can do with Pandas which we'll be teaching in other lessons.\n",
    "\n",
    "For now, you should understand the basic relationship between the Numpy array and the Pandas dataframe: that dataframes are labeled two-dimensional arrays that can contain different data types.\n",
    "\n",
    "You should also understand what makes up a dataframe. Every dataframe is made up of columns, which are Pandas series, and a certain number of rows. The dataframe has row labels, which are the index, and column names. When you're working with dataframes, you should remember if you're dealing with series methods or dataframe methods."
   ]
  },
  {
   "cell_type": "code",
   "execution_count": 58,
   "metadata": {
    "ExecuteTime": {
     "end_time": "2018-04-30T21:53:58.491826Z",
     "start_time": "2018-04-30T21:53:58.486312Z"
    }
   },
   "outputs": [],
   "source": [
    "df['ColumnOne'] = df['Column One']"
   ]
  },
  {
   "cell_type": "code",
   "execution_count": 67,
   "metadata": {
    "ExecuteTime": {
     "end_time": "2018-04-30T21:55:52.041220Z",
     "start_time": "2018-04-30T21:55:52.034201Z"
    }
   },
   "outputs": [
    {
     "data": {
      "text/plain": [
       "Int64Index([0, 1, 2], dtype='int64')"
      ]
     },
     "execution_count": 67,
     "metadata": {},
     "output_type": "execute_result"
    }
   ],
   "source": [
    "df.T.columns"
   ]
  }
 ],
 "metadata": {
  "kernelspec": {
   "display_name": "Python [default]",
   "language": "python",
   "name": "python3"
  },
  "language_info": {
   "codemirror_mode": {
    "name": "ipython",
    "version": 3
   },
   "file_extension": ".py",
   "mimetype": "text/x-python",
   "name": "python",
   "nbconvert_exporter": "python",
   "pygments_lexer": "ipython3",
   "version": "3.6.4"
  },
  "toc": {
   "nav_menu": {},
   "number_sections": true,
   "sideBar": true,
   "skip_h1_title": false,
   "title_cell": "Table of Contents",
   "title_sidebar": "Contents",
   "toc_cell": false,
   "toc_position": {},
   "toc_section_display": true,
   "toc_window_display": false
  },
  "varInspector": {
   "cols": {
    "lenName": 16,
    "lenType": 16,
    "lenVar": 40
   },
   "kernels_config": {
    "python": {
     "delete_cmd_postfix": "",
     "delete_cmd_prefix": "del ",
     "library": "var_list.py",
     "varRefreshCmd": "print(var_dic_list())"
    },
    "r": {
     "delete_cmd_postfix": ") ",
     "delete_cmd_prefix": "rm(",
     "library": "var_list.r",
     "varRefreshCmd": "cat(var_dic_list()) "
    }
   },
   "types_to_exclude": [
    "module",
    "function",
    "builtin_function_or_method",
    "instance",
    "_Feature"
   ],
   "window_display": false
  }
 },
 "nbformat": 4,
 "nbformat_minor": 2
}
