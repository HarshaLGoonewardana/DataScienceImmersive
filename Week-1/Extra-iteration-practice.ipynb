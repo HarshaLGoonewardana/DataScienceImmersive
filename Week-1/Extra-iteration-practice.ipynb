{
 "cells": [
  {
   "cell_type": "markdown",
   "metadata": {},
   "source": [
    "# For-loops and list comprehensions\n",
    "\n",
    "This notebook contains a few basic drills in:\n",
    "* Writing for-loops\n",
    "* \"Converting\" the logic of for-loops into list comprehensions\n",
    "\n",
    "The syntax of list comprehensions can be confusing at first, but list comps are an extremely useful tool to have at your disposal. Consider experimenting past the examples provided. Additionally, **do not copy-paste**! It's tempting to just copy-paste and alter your own existing code, but while you're learning, focus on **building muscle memory** and really understanding what goes where in a list comp."
   ]
  },
  {
   "cell_type": "markdown",
   "metadata": {},
   "source": [
    "### Problem 1)\n",
    "First run the included code initializing a list of animals.\n",
    "\n",
    "Then write a for-loop that stores a list of the animals in all-caps. *Make sure you store this list!* Hint: You will need to initialize an empty list before running the for-loop."
   ]
  },
  {
   "cell_type": "code",
   "execution_count": 13,
   "metadata": {},
   "outputs": [
    {
     "data": {
      "text/plain": [
       "['aardvark', 'bee', 'cat', 'dog', 'emu', 'flamingo', 'goose']"
      ]
     },
     "execution_count": 13,
     "metadata": {},
     "output_type": "execute_result"
    }
   ],
   "source": [
    "animals = ['aardvark', 'bee', 'cat', 'dog', 'emu', 'flamingo', 'goose']\n",
    "animals"
   ]
  },
  {
   "cell_type": "code",
   "execution_count": null,
   "metadata": {},
   "outputs": [],
   "source": [
    "# your for-loop goes here:\n"
   ]
  },
  {
   "cell_type": "markdown",
   "metadata": {},
   "source": [
    "The format of a most basic list comprehension that does nothing but return unaltered values is as follows:\n",
    "\n",
    "```Python\n",
    "[each for each in iterable]\n",
    "```\n",
    "\n",
    "Write a list comprehension that does nothing but print the animals in our original list, `animals`:"
   ]
  },
  {
   "cell_type": "code",
   "execution_count": null,
   "metadata": {},
   "outputs": [],
   "source": [
    "# your list comp goes here:\n"
   ]
  },
  {
   "cell_type": "markdown",
   "metadata": {},
   "source": [
    "You may have noticed that your list comprehension and your for-loop have some language in common, namely:\n",
    "\n",
    "```Python\n",
    "for each in animals\n",
    "```\n",
    "\n",
    "appears in both (your variable name, of course, may not be `each`.)\n",
    "\n",
    "With this in mind, write a list comprehension that does the same thing as the all-caps for-loop above. (You do not have to store this list.)"
   ]
  },
  {
   "cell_type": "code",
   "execution_count": 14,
   "metadata": {},
   "outputs": [],
   "source": [
    "#your list comp goes here:\n"
   ]
  },
  {
   "cell_type": "markdown",
   "metadata": {},
   "source": [
    "**Key takeaway**: List comprehensions involve syntax very similar to a for loop. If you're struggling to remember the 'grammar' of a list comprehension, so to speak, try thinking about a for-loop to remind yourself.\n",
    "\n",
    "### Problem 2)\n",
    "Write a for-loop that prints the length of each string stored in the list `animals`."
   ]
  },
  {
   "cell_type": "code",
   "execution_count": 15,
   "metadata": {},
   "outputs": [],
   "source": [
    "# your for-loop goes here:\n"
   ]
  },
  {
   "cell_type": "markdown",
   "metadata": {},
   "source": [
    "Now, replicate using a list comprehension:"
   ]
  },
  {
   "cell_type": "code",
   "execution_count": 17,
   "metadata": {},
   "outputs": [],
   "source": [
    "# your list comp goes here:\n"
   ]
  },
  {
   "cell_type": "markdown",
   "metadata": {},
   "source": [
    "### Problem 3)\n",
    "Now for some filtering. As before we'll start off by writing a for-loop. Print only the animals whose names are longer than 3 characters."
   ]
  },
  {
   "cell_type": "code",
   "execution_count": 18,
   "metadata": {},
   "outputs": [],
   "source": [
    "# your for-loop goes here:\n"
   ]
  },
  {
   "cell_type": "markdown",
   "metadata": {},
   "source": [
    "Now, do the same with a list comprehension. Hint: the `if` statement will come at the end of the list comprehension."
   ]
  },
  {
   "cell_type": "code",
   "execution_count": 20,
   "metadata": {},
   "outputs": [],
   "source": [
    "# your list comp goes here:\n"
   ]
  },
  {
   "cell_type": "markdown",
   "metadata": {},
   "source": [
    "Now, with a list comprehension, return a list of only the first letter of each animal whose name is less than 4 characters long."
   ]
  },
  {
   "cell_type": "code",
   "execution_count": 21,
   "metadata": {},
   "outputs": [],
   "source": [
    "# your list comp goes here:\n"
   ]
  }
 ],
 "metadata": {
  "kernelspec": {
   "display_name": "Python 3",
   "language": "python",
   "name": "python3"
  },
  "language_info": {
   "codemirror_mode": {
    "name": "ipython",
    "version": 3
   },
   "file_extension": ".py",
   "mimetype": "text/x-python",
   "name": "python",
   "nbconvert_exporter": "python",
   "pygments_lexer": "ipython3",
   "version": "3.6.4"
  }
 },
 "nbformat": 4,
 "nbformat_minor": 2
}