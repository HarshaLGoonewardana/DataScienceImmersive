{
 "cells": [
  {
   "cell_type": "markdown",
   "metadata": {},
   "source": [
    "# Miscellaneous Quiz 1 Review"
   ]
  },
  {
   "cell_type": "code",
   "execution_count": null,
   "metadata": {},
   "outputs": [],
   "source": [
    "# Difference between print and return:\n",
    "\n",
    "fit(model)\n",
    "# print: 'Model was fit successfully!'\n",
    "# return: the fitted model itself. Or: model params."
   ]
  },
  {
   "cell_type": "code",
   "execution_count": 2,
   "metadata": {
    "ExecuteTime": {
     "end_time": "2018-04-27T18:09:28.494407Z",
     "start_time": "2018-04-27T18:09:23.584924Z"
    }
   },
   "outputs": [],
   "source": [
    "import numpy as np"
   ]
  },
  {
   "cell_type": "code",
   "execution_count": 22,
   "metadata": {
    "ExecuteTime": {
     "end_time": "2018-04-27T18:18:51.851743Z",
     "start_time": "2018-04-27T18:18:51.844084Z"
    }
   },
   "outputs": [],
   "source": [
    "# For loop. How many times will it iterate?\n",
    "count = 0\n",
    "for i in range(1,11,3):\n",
    "    count += 1\n",
    "assert count == 4"
   ]
  },
  {
   "cell_type": "code",
   "execution_count": 24,
   "metadata": {
    "ExecuteTime": {
     "end_time": "2018-04-27T18:19:53.230160Z",
     "start_time": "2018-04-27T18:19:53.222562Z"
    }
   },
   "outputs": [],
   "source": [
    "lst = list(range(1,11))[::3]"
   ]
  },
  {
   "cell_type": "code",
   "execution_count": 27,
   "metadata": {
    "ExecuteTime": {
     "end_time": "2018-04-27T18:43:03.280907Z",
     "start_time": "2018-04-27T18:43:03.257786Z"
    }
   },
   "outputs": [
    {
     "name": "stdout",
     "output_type": "stream",
     "text": [
      "a\n",
      "a\n",
      "a\n",
      "a\n",
      "a\n",
      "a\n",
      "a\n"
     ]
    },
    {
     "data": {
      "text/plain": [
       "['a', 'a', 'a', 'a', 'a', 'a', 'a']"
      ]
     },
     "execution_count": 27,
     "metadata": {},
     "output_type": "execute_result"
    }
   ],
   "source": [
    "\n",
    "lst = ['a','b','c']*100\n",
    "\n",
    "a_count = 0\n",
    "for letter in lst:\n",
    "    if letter == 'a':\n",
    "        a_count += 1\n",
    "        print(letter)\n",
    "    if a_count == 7:\n",
    "        break\n",
    "        \n",
    "[letter for letter in lst if letter == 'a'][:7]"
   ]
  },
  {
   "cell_type": "code",
   "execution_count": 26,
   "metadata": {
    "ExecuteTime": {
     "end_time": "2018-04-27T18:41:34.129394Z",
     "start_time": "2018-04-27T18:41:34.121687Z"
    }
   },
   "outputs": [
    {
     "data": {
      "text/plain": [
       "102"
      ]
     },
     "execution_count": 26,
     "metadata": {},
     "output_type": "execute_result"
    }
   ],
   "source": [
    "# When will a while loop stop?\n",
    "\n",
    "x = 0\n",
    "count = 0\n",
    "while x < 100:\n",
    "    x += np.random.randint(0,3)\n",
    "    count += 1\n",
    "count"
   ]
  },
  {
   "cell_type": "code",
   "execution_count": 30,
   "metadata": {
    "ExecuteTime": {
     "end_time": "2018-04-27T18:29:33.489737Z",
     "start_time": "2018-04-27T18:29:33.484665Z"
    }
   },
   "outputs": [],
   "source": [
    "assert len(lst) == 300"
   ]
  },
  {
   "cell_type": "code",
   "execution_count": 34,
   "metadata": {
    "ExecuteTime": {
     "end_time": "2018-04-27T18:45:50.717201Z",
     "start_time": "2018-04-27T18:45:50.707515Z"
    }
   },
   "outputs": [],
   "source": [
    "# What is value of variable operated on in loop?\n",
    "x = 0\n",
    "for i in range(10000):\n",
    "    x = 1\n",
    "    x += 1\n",
    "assert x == 2"
   ]
  },
  {
   "cell_type": "code",
   "execution_count": 52,
   "metadata": {
    "ExecuteTime": {
     "end_time": "2018-04-27T18:54:05.267829Z",
     "start_time": "2018-04-27T18:54:05.259932Z"
    }
   },
   "outputs": [],
   "source": [
    "# Iterate Through List of Numbers and Do Something\n",
    "\n",
    "x = list(np.linspace(0,100, num=101))"
   ]
  },
  {
   "cell_type": "code",
   "execution_count": null,
   "metadata": {
    "ExecuteTime": {
     "end_time": "2018-04-27T18:58:14.598437Z",
     "start_time": "2018-04-27T18:58:14.587092Z"
    }
   },
   "outputs": [],
   "source": [
    "# Return a list of the same numbers as ints\n",
    "[int(y) for y in x]"
   ]
  },
  {
   "cell_type": "code",
   "execution_count": 72,
   "metadata": {
    "ExecuteTime": {
     "end_time": "2018-04-27T19:00:35.512247Z",
     "start_time": "2018-04-27T19:00:35.474417Z"
    }
   },
   "outputs": [],
   "source": [
    "# You can use if/else in a list comp, then do easy computations with that list:\n",
    "\n",
    "sex = np.random.choice(['male','female'], size=971234)\n",
    "\n",
    "np.mean([1 if person=='female' else 0 for person in sex])"
   ]
  },
  {
   "cell_type": "code",
   "execution_count": null,
   "metadata": {},
   "outputs": [],
   "source": [
    "# What is an experiment and an outcome?\n",
    "# What is a RV?\n",
    "# What is a distribution?"
   ]
  },
  {
   "cell_type": "code",
   "execution_count": null,
   "metadata": {},
   "outputs": [],
   "source": [
    "# Discrete v continous. What are they?"
   ]
  },
  {
   "cell_type": "code",
   "execution_count": 74,
   "metadata": {
    "ExecuteTime": {
     "end_time": "2018-04-27T19:05:11.742838Z",
     "start_time": "2018-04-27T19:05:11.731075Z"
    }
   },
   "outputs": [],
   "source": [
    "# Which dist'n is this:\n",
    "my_reading_list = np.random.choice(['George Orwell',\n",
    "                  'Albert Camus',\n",
    "                  'Arthur Koestler'], size = 100)"
   ]
  },
  {
   "cell_type": "code",
   "execution_count": 75,
   "metadata": {
    "ExecuteTime": {
     "end_time": "2018-04-27T19:05:17.078641Z",
     "start_time": "2018-04-27T19:05:17.070635Z"
    }
   },
   "outputs": [
    {
     "data": {
      "text/plain": [
       "array(['George Orwell', 'George Orwell', 'George Orwell',\n",
       "       'Arthur Koestler', 'George Orwell', 'George Orwell',\n",
       "       'George Orwell', 'George Orwell', 'Arthur Koestler',\n",
       "       'George Orwell', 'Albert Camus', 'Albert Camus', 'Arthur Koestler',\n",
       "       'Albert Camus', 'Arthur Koestler', 'Albert Camus',\n",
       "       'Arthur Koestler', 'George Orwell', 'George Orwell',\n",
       "       'Arthur Koestler', 'Albert Camus', 'George Orwell', 'Albert Camus',\n",
       "       'Arthur Koestler', 'Arthur Koestler', 'George Orwell',\n",
       "       'Arthur Koestler', 'Albert Camus', 'George Orwell',\n",
       "       'Arthur Koestler', 'George Orwell', 'George Orwell',\n",
       "       'Arthur Koestler', 'Albert Camus', 'Arthur Koestler',\n",
       "       'George Orwell', 'Albert Camus', 'Albert Camus', 'Arthur Koestler',\n",
       "       'Arthur Koestler', 'Arthur Koestler', 'George Orwell',\n",
       "       'Albert Camus', 'Albert Camus', 'George Orwell', 'George Orwell',\n",
       "       'George Orwell', 'George Orwell', 'Arthur Koestler',\n",
       "       'George Orwell', 'Albert Camus', 'Albert Camus', 'Arthur Koestler',\n",
       "       'Arthur Koestler', 'George Orwell', 'George Orwell',\n",
       "       'Albert Camus', 'Arthur Koestler', 'Arthur Koestler',\n",
       "       'Albert Camus', 'Albert Camus', 'George Orwell', 'Albert Camus',\n",
       "       'Arthur Koestler', 'Albert Camus', 'Arthur Koestler',\n",
       "       'Arthur Koestler', 'Albert Camus', 'George Orwell',\n",
       "       'Arthur Koestler', 'Albert Camus', 'George Orwell',\n",
       "       'Arthur Koestler', 'Albert Camus', 'Arthur Koestler',\n",
       "       'Arthur Koestler', 'George Orwell', 'Albert Camus',\n",
       "       'Arthur Koestler', 'George Orwell', 'Albert Camus',\n",
       "       'George Orwell', 'George Orwell', 'Albert Camus', 'Albert Camus',\n",
       "       'Arthur Koestler', 'Albert Camus', 'Arthur Koestler',\n",
       "       'George Orwell', 'Albert Camus', 'Arthur Koestler',\n",
       "       'Arthur Koestler', 'George Orwell', 'Arthur Koestler',\n",
       "       'Arthur Koestler', 'Albert Camus', 'Albert Camus',\n",
       "       'Arthur Koestler', 'Arthur Koestler', 'George Orwell'],\n",
       "      dtype='<U15')"
      ]
     },
     "execution_count": 75,
     "metadata": {},
     "output_type": "execute_result"
    }
   ],
   "source": [
    "my_reading_list # Discrete uniform distribution!"
   ]
  },
  {
   "cell_type": "code",
   "execution_count": null,
   "metadata": {},
   "outputs": [],
   "source": [
    "# What is the CLT?"
   ]
  }
 ],
 "metadata": {
  "kernelspec": {
   "display_name": "Python [conda env:Anaconda3]",
   "language": "python",
   "name": "conda-env-Anaconda3-py"
  },
  "language_info": {
   "codemirror_mode": {
    "name": "ipython",
    "version": 3
   },
   "file_extension": ".py",
   "mimetype": "text/x-python",
   "name": "python",
   "nbconvert_exporter": "python",
   "pygments_lexer": "ipython3",
   "version": "3.6.3"
  },
  "toc": {
   "nav_menu": {},
   "number_sections": true,
   "sideBar": true,
   "skip_h1_title": false,
   "title_cell": "Table of Contents",
   "title_sidebar": "Contents",
   "toc_cell": false,
   "toc_position": {},
   "toc_section_display": true,
   "toc_window_display": false
  },
  "varInspector": {
   "cols": {
    "lenName": 16,
    "lenType": 16,
    "lenVar": 40
   },
   "kernels_config": {
    "python": {
     "delete_cmd_postfix": "",
     "delete_cmd_prefix": "del ",
     "library": "var_list.py",
     "varRefreshCmd": "print(var_dic_list())"
    },
    "r": {
     "delete_cmd_postfix": ") ",
     "delete_cmd_prefix": "rm(",
     "library": "var_list.r",
     "varRefreshCmd": "cat(var_dic_list()) "
    }
   },
   "types_to_exclude": [
    "module",
    "function",
    "builtin_function_or_method",
    "instance",
    "_Feature"
   ],
   "window_display": false
  }
 },
 "nbformat": 4,
 "nbformat_minor": 2
}
